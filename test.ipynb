{
 "cells": [
  {
   "cell_type": "code",
   "execution_count": 2,
   "metadata": {},
   "outputs": [],
   "source": [
    "from pathlib import Path\n",
    "import subprocess\n",
    "import shlex\n",
    "import csv\n",
    "import pandas as pd\n",
    "reads = Path(\"/Users/andreapassetti/Reference/NIST/Na12878_HiSeq_Exome\")\n",
    "ref = Path(\"/Users/andreapassetti/Reference/hg19/gencode.v47lift37.basic.annotation.gff3.gz\")\n",
    "tmp = Path(\"/Users/andreapassetti/tmp\")\n",
    "file = Path(\"/Users/andreapassetti/Reference/NIST/Na12878_HiSeq_Exome/project.NIST_NIST7035_H7AP8ADXX_TAAGGCGA_1_NA12878.bwa.markDuplicates.bam\")\n",
    "dati = Path(\"/Users/andreapassetti/tesi/Dati\")"
   ]
  },
  {
   "cell_type": "code",
   "execution_count": null,
   "metadata": {},
   "outputs": [
    {
     "name": "stderr",
     "output_type": "stream",
     "text": [
      "[W::hts_idx_load3] The index file is older than the data file: /Users/andreapassetti/Reference/NIST/Na12878_HiSeq_Exome/project.NIST_NIST7035_H7AP8ADXX_TAAGGCGA_1_NA12878.bwa.markDuplicates.bai\n"
     ]
    }
   ],
   "source": [
    "# Use Samtools to open bam file and export to a text file\n",
    "with file.open() as temp:\n",
    "    command = f\"samtools view {shlex.quote(str(file))} chr1 | head -n 20 > {tmp}/illumina.txt\"\n",
    "    subprocess.run(command, shell=True, check=True)"
   ]
  },
  {
   "cell_type": "code",
   "execution_count": 3,
   "metadata": {},
   "outputs": [
    {
     "name": "stdout",
     "output_type": "stream",
     "text": [
      "HWI-D00119:50:H7AP8ADXX:1:2208:5166:2843\t99\tchr1\t10014\t0\t86M\t=\t10064\t100\tAACCCTAACCCTAACCCTAACCCTAACCCTAACCCTAACCCTAACCCTAACCCTAACCCTAACCCTAACCCTAACCCTAACCCTAA\t;@?BDADFFDAHGH>BEHEHAHGHE@FHHGICHIIIFCGHG>FHIIIECGGGI@HIDCC@CH>A;67@@A=;>AB;=2;9<?AA<A\tX0:i:386\tMD:Z:86\tPG:Z:MarkDuplicates\tRG:Z:1\tXG:i:0\tAM:i:0\tNM:i:0\tSM:i:0\tXM:i:0\tXO:i:0\tXT:A:R\n",
      "HWI-D00119:50:H7AP8ADXX:1:2108:13472:28030\t99\tchr1\t10022\t0\t77M\t=\t10186\t206\tCCCTAACCCTAACCCTAACCCTAACCCTAACCCTAACCCTAACCCTAACCCTAACCCTAACCCTAACCCTAACCCTA\t@@@DDDBBCFHHAGGGIIAEGGHIGGI>GI??;F>G>FGC;?898?D8=@2=>DDE=;DEE@C;7?B@?@C@;;;AC\tX0:i:406\tMD:Z:77\tPG:Z:MarkDuplicates\tRG:Z:1\tXG:i:0\tAM:i:0\tNM:i:0\tSM:i:0\tXM:i:0\tXO:i:0\tXT:A:R\n",
      "HWI-D00119:50:H7AP8ADXX:1:2113:9505:16367\t99\tchr1\t10028\t0\t81M\t=\t10180\t200\tCCCTAACCCTAACCCTAACCCTAACCCTAACCCTAACCCTAACCCTAAACCTAACCCTAACCCTAACCCTAACCCTAACCC\t@@@DDDDDFFFFFIIIIICGF939AF3??C18))B@8)???9D>B9D8)8BCAFFE=6@9DAE@EB;@2?A@9@@9=5=29\tX0:i:401\tMD:Z:48C32\tPG:Z:MarkDuplicates\tRG:Z:1\tXG:i:0\tAM:i:0\tNM:i:1\tSM:i:0\tXM:i:1\tXO:i:0\tXT:A:R\n",
      "HWI-D00119:50:H7AP8ADXX:1:2101:6623:63757\t99\tchr1\t10034\t0\t72M\t=\t10196\t188\tCCCTAACCCTAACCCTAACCCTAACCCTAACCCTAACCCTAACCCTAACCCTAACCCTAACCCTAACCCTAA\t?8=DBD;DBCDF;F::?E;CDCED>FG@B9C8?3):)0BD;?)98B;F8(=C=C@=@;;7A2(=3;;?B9;9\tX0:i:420\tMD:Z:72\tPG:Z:MarkDuplicates\tRG:Z:1\tXG:i:0\tAM:i:0\tNM:i:0\tSM:i:0\tXM:i:0\tXO:i:0\tXT:A:R\n",
      "HWI-D00119:50:H7AP8ADXX:1:2103:10388:24137\t99\tchr1\t10040\t0\t68M\t=\t10179\t188\tCCCTAACCCTAACCCTAACCCTAACCCTAACCCTAACCCTAACCCTAACCCTAACCCTAACCCTAACC\t?@@D;DAAC?FB?FFBGEG?FG?CG??:EE3BC@G3?BFAF?BBB??F@=;=F7@;D@77662=3?;B\tX0:i:433\tMD:Z:68\tPG:Z:MarkDuplicates\tRG:Z:1\tXG:i:0\tAM:i:0\tNM:i:0\tSM:i:0\tXM:i:0\tXO:i:0\tXT:A:R\n",
      "HWI-D00119:50:H7AP8ADXX:1:1213:15059:12504\t1123\tchr1\t10058\t0\t51M\t=\t10183\t176\tCCCTAACCCTAACCCTAACCCTAACCCTAACCCTAACCCTAACCCTAACCC\t@@@DFFFEFFHGGGIGIFEC=GGGHEEGEHGGIIJEAFHGGGHIIHGHHIJ\tX0:i:515\tMD:Z:51\tPG:Z:MarkDuplicates\tRG:Z:1\tXG:i:0\tAM:i:0\tNM:i:0\tSM:i:0\tXM:i:0\tXO:i:0\tXT:A:R\n",
      "HWI-D00119:50:H7AP8ADXX:1:2216:11271:22504\t163\tchr1\t10058\t0\t51M\t=\t10183\t176\tCCCTAACCCTAACCCTAACCCTAACCCTAACCCTAACCCTAACCCTAACCC\t@@@FFFDFHHFHGJIGIJJJJJIIGIGEGGGGGEGIGEIEDHIIJIIIJII\tX0:i:515\tMD:Z:51\tPG:Z:MarkDuplicates\tRG:Z:1\tXG:i:0\tAM:i:0\tNM:i:0\tSM:i:0\tXM:i:0\tXO:i:0\tXT:A:R\n",
      "HWI-D00119:50:H7AP8ADXX:1:2208:5166:2843\t147\tchr1\t10064\t0\t50M\t=\t10014\t-100\tCCCTAACCCTAACCCTAACCCTAACCCTAACCCTAACCCTAACCCAACCC\tFC68CGIHIGHDHIHHF?GDF?:1CD?3GGGIIHFCBFF?DF?D<DB@@@\tX0:i:3\tX1:i:11\tMD:Z:50\tPG:Z:MarkDuplicates\tRG:Z:1\tXG:i:0\tAM:i:0\tNM:i:0\tSM:i:0\tXM:i:0\tXO:i:0\tXT:A:R\n",
      "HWI-D00119:50:H7AP8ADXX:1:2103:10388:24137\t147\tchr1\t10179\t0\t49M\t=\t10040\t-188\tCTAACCCTAACCCTAACCCTAACCCTAACCCTAACCCTAACCCTAACCC\tB;9FD?B890BGB3GG9;8;C:A@@;C<ABIIIGEBDDC<DDB===?:=\tX0:i:524\tMD:Z:49\tPG:Z:MarkDuplicates\tRG:Z:1\tXG:i:0\tAM:i:0\tNM:i:0\tSM:i:0\tXM:i:0\tXO:i:0\tXT:A:R\n",
      "HWI-D00119:50:H7AP8ADXX:1:2113:9505:16367\t147\tchr1\t10180\t0\t48M\t=\t10028\t-200\tTAACCCTAACCCTAACCCTAACCCTAGCCCTAACCCTAACCCTAACCC\tB=9DCDDDD<D?3B:??):@18)A3A+EEIIECIEADA+DDDDB:???\tX0:i:530\tMD:Z:26A21\tPG:Z:MarkDuplicates\tRG:Z:1\tXG:i:0\tAM:i:0\tNM:i:1\tSM:i:0\tXM:i:1\tXO:i:0\tXT:A:R\n",
      "HWI-D00119:50:H7AP8ADXX:1:1213:15059:12504\t1171\tchr1\t10183\t0\t51M\t=\t10058\t-176\tCCCTAACCCTAACCCTAACCCTAACCCTAACCCTAACCCTAACCCTAACCC\t@CB(FFD?D??0GFD?D:IFFDC?E?A@FGEEFAC2FFD:C<FDDDDB@@@\tX0:i:515\tMD:Z:51\tPG:Z:MarkDuplicates\tRG:Z:1\tXG:i:0\tAM:i:0\tNM:i:0\tSM:i:0\tXM:i:0\tXO:i:0\tXT:A:R\n",
      "HWI-D00119:50:H7AP8ADXX:1:2216:11271:22504\t83\tchr1\t10183\t0\t51M\t=\t10058\t-176\tCCCTAACCCTAACCCTAACCCTAACCCTAACCCTAACCCTAACCCTAACCC\tGIIIIIJIIGHFJGHFGDIIGGGCJIGGEFIGIHIIJJHFHFHFFDDD@BB\tX0:i:515\tMD:Z:51\tPG:Z:MarkDuplicates\tRG:Z:1\tXG:i:0\tAM:i:0\tNM:i:0\tSM:i:0\tXM:i:0\tXO:i:0\tXT:A:R\n",
      "HWI-D00119:50:H7AP8ADXX:1:2108:13472:28030\t147\tchr1\t10186\t0\t42M\t=\t10022\t-206\tTAACCCTAACCCTAACCCTAACCCTAACCCTAACCCTAACCC\tDGD9)0)01;?))?*GEFDC<?B:@CAFBFDDAD;D?DA@<@\tX0:i:575\tMD:Z:42\tPG:Z:MarkDuplicates\tRG:Z:1\tXG:i:0\tAM:i:0\tNM:i:0\tSM:i:0\tXM:i:0\tXO:i:0\tXT:A:R\n",
      "HWI-D00119:50:H7AP8ADXX:1:2101:6623:63757\t147\tchr1\t10196\t0\t26M\t=\t10034\t-188\tCCTAACCCTAACCCTAGCCCTAGCCC\t?><??@<<3<288862)?<>8@(<;9\tX0:i:6\tX1:i:903\tMD:Z:16A5A3\tPG:Z:MarkDuplicates\tRG:Z:1\tXG:i:0\tAM:i:0\tNM:i:2\tSM:i:0\tXM:i:2\tXO:i:0\tXT:A:R\n",
      "HWI-D00119:50:H7AP8ADXX:1:2207:2522:23573\t99\tchr1\t10360\t0\t58M\t=\t10410\t83\tCCCTAACCCTAACCCTAACCCTAACCCTAACCCCTAACCCCTAACCCTAACCCTAACC\tCCCFFFFFDHHHHGIIGIHIJIGGGJIFGIGGJEADGIGJ)7?)?C9(=)@A;2@;=@\tX0:i:2\tX1:i:2\tXA:Z:chr11,+191825,58M,0;chr5,+11751,58M,1;chr20,-62918116,58M,1;\tMD:Z:58\tPG:Z:MarkDuplicates\tRG:Z:1\tXG:i:0\tAM:i:0\tNM:i:0\tSM:i:0\tXM:i:0\tXO:i:0\tXT:A:R\n",
      "HWI-D00119:50:H7AP8ADXX:1:2207:2522:23573\t147\tchr1\t10410\t0\t33M\t=\t10360\t-83\tCCCTAACCCTAACCCTAACCCTAACCCTAACCC\tGED=E:JJGHGCIHEEFEJJHHFHHFFDDBC@@\tX0:i:702\tMD:Z:33\tPG:Z:MarkDuplicates\tRG:Z:1\tXG:i:0\tAM:i:0\tNM:i:0\tSM:i:0\tXM:i:0\tXO:i:0\tXT:A:R\n",
      "HWI-D00119:50:H7AP8ADXX:1:1103:18551:93483\t177\tchr1\t10989\t0\t74M\tchrY\t59361670\t0\tGCGCAGAGACGCACGCCTACGGGCGGGGGTTGGGGGGGCGTGTGTTGCAGGAGCAAAGTCGCACGGCGCCGGGC\t@DDCCDBDBBB<77>@DDDDDDDDDDDDBBDDDFFHHIFIGGIJJJJIIIG@GIJJJIFGIGHHHHFFFDF@CB\tX0:i:7\tX1:i:0\tXA:Z:chr15,+102520108,74M,1;chr9,-11091,74M,1;chrY,+59361670,74M,1;chrX,+155258664,74M,1;chr12,+94550,74M,1;chr16,-60668,74M,1;\tMD:Z:13A60\tPG:Z:MarkDuplicates\tRG:Z:1\tXG:i:0\tAM:i:0\tNM:i:1\tSM:i:0\tXM:i:1\tXO:i:0\tXT:A:R\n",
      "HWI-D00119:50:H7AP8ADXX:1:1205:6081:96561\t99\tchr1\t11523\t0\t100M\t=\t11618\t195\tATTCCTGGGTTTAAAAGTAAAAAATAAATATGTTTAATTTGTGAACTGATTACCATCAGAATTGTACTGTTCTGTATCCCACCAGCAATGTCTAGGAATG\t@CCFFFFFHHHHHJJJJHIIJJIJJJIJJIJIHIJJJJJJJGHIDHJJJIIIJJJJJJJIJIJIHHIJIDGIJJIIIHHHHGFFFFEEEECEEDCDDDDD\tX0:i:2\tX1:i:0\tXA:Z:chr15,-102519548,100M,0;\tMD:Z:100\tPG:Z:MarkDuplicates\tRG:Z:1\tXG:i:0\tAM:i:0\tNM:i:0\tSM:i:0\tXM:i:0\tXO:i:0\tXT:A:R\n",
      "HWI-D00119:50:H7AP8ADXX:1:1115:15786:19327\t99\tchr1\t11591\t0\t101M\t=\t11918\t427\tGTTCTGTATCCCACCAGCAATGTCTAGGAATGCCTGTTTCTCCACAAAGTGTTTACTTTTGGATTTTTGCCAGTCTAACAGGTGAAGCCCTGGAGATTCTT\t@@BFFFFFHHHHGJJJJIJJJJHIJJJJJJJJJJIJJJJJGIJJJJJHIGHIIIJIIJJJJJJIJJJJIJJJJJHHHHHHFFDDFEEEEDDDDDDCDCCDE\tX0:i:2\tX1:i:2\tXA:Z:chr15,-102519479,101M,0;chr12,-93918,101M,1;chr2,-114359324,101M,1;\tMD:Z:101\tPG:Z:MarkDuplicates\tRG:Z:1\tXG:i:0\tAM:i:0\tNM:i:0\tSM:i:0\tXM:i:0\tXO:i:0\tXT:A:R\n",
      "HWI-D00119:50:H7AP8ADXX:1:1205:6081:96561\t147\tchr1\t11618\t0\t100M\t=\t11523\t-195\tGAATGCCTGTTTCTCCACAAAGTGTTTACTTTTGGATTTTTGCCAGTCTAACAGGTGAAGCCCTGGAGATTCTTATTAGTGATTTGGGCTGGGGCCTGGC\tDDDDDDDDDCDDDDDCCDDECCEEEFEDEFHHHHHHJJIJJJJJIJJJJIHJJJJJJJJJJJJIIJHIIJIJJIIJJJJJJJJJIGJHHHHHFFFFFCCC\tX0:i:3\tX1:i:1\tXA:Z:chr2,+114359298,100M,0;chr15,+102519453,100M,0;chr9,-11731,100M,1;\tMD:Z:100\tPG:Z:MarkDuplicates\tRG:Z:1\tXG:i:0\tAM:i:0\tNM:i:0\tSM:i:0\tXM:i:0\tXO:i:0\tXT:A:R\n",
      "\n"
     ]
    }
   ],
   "source": [
    "# This is the text file from before\n",
    "with open(tmp / \"illumina.txt\") as f:\n",
    "    print(f.read())"
   ]
  },
  {
   "cell_type": "code",
   "execution_count": 4,
   "metadata": {},
   "outputs": [
    {
     "name": "stdout",
     "output_type": "stream",
     "text": [
      "['HWI-D00119:50:H7AP8ADXX:1:2208:5166:2843', '99', 'chr1', '10014', '0', '86M', '=', '10064', '100', 'AACCCTAACCCTAACCCTAACCCTAACCCTAACCCTAACCCTAACCCTAACCCTAACCCTAACCCTAACCCTAACCCTAACCCTAA', ';@?BDADFFDAHGH>BEHEHAHGHE@FHHGICHIIIFCGHG>FHIIIECGGGI@HIDCC@CH>A;67@@A=;>AB;=2;9<?AA<A', 'X0:i:386', 'MD:Z:86', 'PG:Z:MarkDuplicates', 'RG:Z:1', 'XG:i:0', 'AM:i:0', 'NM:i:0', 'SM:i:0', 'XM:i:0', 'XO:i:0', 'XT:A:R']\n",
      "['HWI-D00119:50:H7AP8ADXX:1:2108:13472:28030', '99', 'chr1', '10022', '0', '77M', '=', '10186', '206', 'CCCTAACCCTAACCCTAACCCTAACCCTAACCCTAACCCTAACCCTAACCCTAACCCTAACCCTAACCCTAACCCTA', '@@@DDDBBCFHHAGGGIIAEGGHIGGI>GI??;F>G>FGC;?898?D8=@2=>DDE=;DEE@C;7?B@?@C@;;;AC', 'X0:i:406', 'MD:Z:77', 'PG:Z:MarkDuplicates', 'RG:Z:1', 'XG:i:0', 'AM:i:0', 'NM:i:0', 'SM:i:0', 'XM:i:0', 'XO:i:0', 'XT:A:R']\n",
      "['HWI-D00119:50:H7AP8ADXX:1:2113:9505:16367', '99', 'chr1', '10028', '0', '81M', '=', '10180', '200', 'CCCTAACCCTAACCCTAACCCTAACCCTAACCCTAACCCTAACCCTAAACCTAACCCTAACCCTAACCCTAACCCTAACCC', '@@@DDDDDFFFFFIIIIICGF939AF3??C18))B@8)???9D>B9D8)8BCAFFE=6@9DAE@EB;@2?A@9@@9=5=29', 'X0:i:401', 'MD:Z:48C32', 'PG:Z:MarkDuplicates', 'RG:Z:1', 'XG:i:0', 'AM:i:0', 'NM:i:1', 'SM:i:0', 'XM:i:1', 'XO:i:0', 'XT:A:R']\n",
      "['HWI-D00119:50:H7AP8ADXX:1:2101:6623:63757', '99', 'chr1', '10034', '0', '72M', '=', '10196', '188', 'CCCTAACCCTAACCCTAACCCTAACCCTAACCCTAACCCTAACCCTAACCCTAACCCTAACCCTAACCCTAA', '?8=DBD;DBCDF;F::?E;CDCED>FG@B9C8?3):)0BD;?)98B;F8(=C=C@=@;;7A2(=3;;?B9;9', 'X0:i:420', 'MD:Z:72', 'PG:Z:MarkDuplicates', 'RG:Z:1', 'XG:i:0', 'AM:i:0', 'NM:i:0', 'SM:i:0', 'XM:i:0', 'XO:i:0', 'XT:A:R']\n",
      "['HWI-D00119:50:H7AP8ADXX:1:2103:10388:24137', '99', 'chr1', '10040', '0', '68M', '=', '10179', '188', 'CCCTAACCCTAACCCTAACCCTAACCCTAACCCTAACCCTAACCCTAACCCTAACCCTAACCCTAACC', '?@@D;DAAC?FB?FFBGEG?FG?CG??:EE3BC@G3?BFAF?BBB??F@=;=F7@;D@77662=3?;B', 'X0:i:433', 'MD:Z:68', 'PG:Z:MarkDuplicates', 'RG:Z:1', 'XG:i:0', 'AM:i:0', 'NM:i:0', 'SM:i:0', 'XM:i:0', 'XO:i:0', 'XT:A:R']\n",
      "['HWI-D00119:50:H7AP8ADXX:1:1213:15059:12504', '1123', 'chr1', '10058', '0', '51M', '=', '10183', '176', 'CCCTAACCCTAACCCTAACCCTAACCCTAACCCTAACCCTAACCCTAACCC', '@@@DFFFEFFHGGGIGIFEC=GGGHEEGEHGGIIJEAFHGGGHIIHGHHIJ', 'X0:i:515', 'MD:Z:51', 'PG:Z:MarkDuplicates', 'RG:Z:1', 'XG:i:0', 'AM:i:0', 'NM:i:0', 'SM:i:0', 'XM:i:0', 'XO:i:0', 'XT:A:R']\n",
      "['HWI-D00119:50:H7AP8ADXX:1:2216:11271:22504', '163', 'chr1', '10058', '0', '51M', '=', '10183', '176', 'CCCTAACCCTAACCCTAACCCTAACCCTAACCCTAACCCTAACCCTAACCC', '@@@FFFDFHHFHGJIGIJJJJJIIGIGEGGGGGEGIGEIEDHIIJIIIJII', 'X0:i:515', 'MD:Z:51', 'PG:Z:MarkDuplicates', 'RG:Z:1', 'XG:i:0', 'AM:i:0', 'NM:i:0', 'SM:i:0', 'XM:i:0', 'XO:i:0', 'XT:A:R']\n",
      "['HWI-D00119:50:H7AP8ADXX:1:2208:5166:2843', '147', 'chr1', '10064', '0', '50M', '=', '10014', '-100', 'CCCTAACCCTAACCCTAACCCTAACCCTAACCCTAACCCTAACCCAACCC', 'FC68CGIHIGHDHIHHF?GDF?:1CD?3GGGIIHFCBFF?DF?D<DB@@@', 'X0:i:3', 'X1:i:11', 'MD:Z:50', 'PG:Z:MarkDuplicates', 'RG:Z:1', 'XG:i:0', 'AM:i:0', 'NM:i:0', 'SM:i:0', 'XM:i:0', 'XO:i:0', 'XT:A:R']\n",
      "['HWI-D00119:50:H7AP8ADXX:1:2103:10388:24137', '147', 'chr1', '10179', '0', '49M', '=', '10040', '-188', 'CTAACCCTAACCCTAACCCTAACCCTAACCCTAACCCTAACCCTAACCC', 'B;9FD?B890BGB3GG9;8;C:A@@;C<ABIIIGEBDDC<DDB===?:=', 'X0:i:524', 'MD:Z:49', 'PG:Z:MarkDuplicates', 'RG:Z:1', 'XG:i:0', 'AM:i:0', 'NM:i:0', 'SM:i:0', 'XM:i:0', 'XO:i:0', 'XT:A:R']\n",
      "['HWI-D00119:50:H7AP8ADXX:1:2113:9505:16367', '147', 'chr1', '10180', '0', '48M', '=', '10028', '-200', 'TAACCCTAACCCTAACCCTAACCCTAGCCCTAACCCTAACCCTAACCC', 'B=9DCDDDD<D?3B:??):@18)A3A+EEIIECIEADA+DDDDB:???', 'X0:i:530', 'MD:Z:26A21', 'PG:Z:MarkDuplicates', 'RG:Z:1', 'XG:i:0', 'AM:i:0', 'NM:i:1', 'SM:i:0', 'XM:i:1', 'XO:i:0', 'XT:A:R']\n",
      "['HWI-D00119:50:H7AP8ADXX:1:1213:15059:12504', '1171', 'chr1', '10183', '0', '51M', '=', '10058', '-176', 'CCCTAACCCTAACCCTAACCCTAACCCTAACCCTAACCCTAACCCTAACCC', '@CB(FFD?D??0GFD?D:IFFDC?E?A@FGEEFAC2FFD:C<FDDDDB@@@', 'X0:i:515', 'MD:Z:51', 'PG:Z:MarkDuplicates', 'RG:Z:1', 'XG:i:0', 'AM:i:0', 'NM:i:0', 'SM:i:0', 'XM:i:0', 'XO:i:0', 'XT:A:R']\n",
      "['HWI-D00119:50:H7AP8ADXX:1:2216:11271:22504', '83', 'chr1', '10183', '0', '51M', '=', '10058', '-176', 'CCCTAACCCTAACCCTAACCCTAACCCTAACCCTAACCCTAACCCTAACCC', 'GIIIIIJIIGHFJGHFGDIIGGGCJIGGEFIGIHIIJJHFHFHFFDDD@BB', 'X0:i:515', 'MD:Z:51', 'PG:Z:MarkDuplicates', 'RG:Z:1', 'XG:i:0', 'AM:i:0', 'NM:i:0', 'SM:i:0', 'XM:i:0', 'XO:i:0', 'XT:A:R']\n",
      "['HWI-D00119:50:H7AP8ADXX:1:2108:13472:28030', '147', 'chr1', '10186', '0', '42M', '=', '10022', '-206', 'TAACCCTAACCCTAACCCTAACCCTAACCCTAACCCTAACCC', 'DGD9)0)01;?))?*GEFDC<?B:@CAFBFDDAD;D?DA@<@', 'X0:i:575', 'MD:Z:42', 'PG:Z:MarkDuplicates', 'RG:Z:1', 'XG:i:0', 'AM:i:0', 'NM:i:0', 'SM:i:0', 'XM:i:0', 'XO:i:0', 'XT:A:R']\n",
      "['HWI-D00119:50:H7AP8ADXX:1:2101:6623:63757', '147', 'chr1', '10196', '0', '26M', '=', '10034', '-188', 'CCTAACCCTAACCCTAGCCCTAGCCC', '?><??@<<3<288862)?<>8@(<;9', 'X0:i:6', 'X1:i:903', 'MD:Z:16A5A3', 'PG:Z:MarkDuplicates', 'RG:Z:1', 'XG:i:0', 'AM:i:0', 'NM:i:2', 'SM:i:0', 'XM:i:2', 'XO:i:0', 'XT:A:R']\n",
      "['HWI-D00119:50:H7AP8ADXX:1:2207:2522:23573', '99', 'chr1', '10360', '0', '58M', '=', '10410', '83', 'CCCTAACCCTAACCCTAACCCTAACCCTAACCCCTAACCCCTAACCCTAACCCTAACC', 'CCCFFFFFDHHHHGIIGIHIJIGGGJIFGIGGJEADGIGJ)7?)?C9(=)@A;2@;=@', 'X0:i:2', 'X1:i:2', 'XA:Z:chr11,+191825,58M,0;chr5,+11751,58M,1;chr20,-62918116,58M,1;', 'MD:Z:58', 'PG:Z:MarkDuplicates', 'RG:Z:1', 'XG:i:0', 'AM:i:0', 'NM:i:0', 'SM:i:0', 'XM:i:0', 'XO:i:0', 'XT:A:R']\n",
      "['HWI-D00119:50:H7AP8ADXX:1:2207:2522:23573', '147', 'chr1', '10410', '0', '33M', '=', '10360', '-83', 'CCCTAACCCTAACCCTAACCCTAACCCTAACCC', 'GED=E:JJGHGCIHEEFEJJHHFHHFFDDBC@@', 'X0:i:702', 'MD:Z:33', 'PG:Z:MarkDuplicates', 'RG:Z:1', 'XG:i:0', 'AM:i:0', 'NM:i:0', 'SM:i:0', 'XM:i:0', 'XO:i:0', 'XT:A:R']\n",
      "['HWI-D00119:50:H7AP8ADXX:1:1103:18551:93483', '177', 'chr1', '10989', '0', '74M', 'chrY', '59361670', '0', 'GCGCAGAGACGCACGCCTACGGGCGGGGGTTGGGGGGGCGTGTGTTGCAGGAGCAAAGTCGCACGGCGCCGGGC', '@DDCCDBDBBB<77>@DDDDDDDDDDDDBBDDDFFHHIFIGGIJJJJIIIG@GIJJJIFGIGHHHHFFFDF@CB', 'X0:i:7', 'X1:i:0', 'XA:Z:chr15,+102520108,74M,1;chr9,-11091,74M,1;chrY,+59361670,74M,1;chrX,+155258664,74M,1;chr12,+94550,74M,1;chr16,-60668,74M,1;', 'MD:Z:13A60', 'PG:Z:MarkDuplicates', 'RG:Z:1', 'XG:i:0', 'AM:i:0', 'NM:i:1', 'SM:i:0', 'XM:i:1', 'XO:i:0', 'XT:A:R']\n",
      "['HWI-D00119:50:H7AP8ADXX:1:1205:6081:96561', '99', 'chr1', '11523', '0', '100M', '=', '11618', '195', 'ATTCCTGGGTTTAAAAGTAAAAAATAAATATGTTTAATTTGTGAACTGATTACCATCAGAATTGTACTGTTCTGTATCCCACCAGCAATGTCTAGGAATG', '@CCFFFFFHHHHHJJJJHIIJJIJJJIJJIJIHIJJJJJJJGHIDHJJJIIIJJJJJJJIJIJIHHIJIDGIJJIIIHHHHGFFFFEEEECEEDCDDDDD', 'X0:i:2', 'X1:i:0', 'XA:Z:chr15,-102519548,100M,0;', 'MD:Z:100', 'PG:Z:MarkDuplicates', 'RG:Z:1', 'XG:i:0', 'AM:i:0', 'NM:i:0', 'SM:i:0', 'XM:i:0', 'XO:i:0', 'XT:A:R']\n",
      "['HWI-D00119:50:H7AP8ADXX:1:1115:15786:19327', '99', 'chr1', '11591', '0', '101M', '=', '11918', '427', 'GTTCTGTATCCCACCAGCAATGTCTAGGAATGCCTGTTTCTCCACAAAGTGTTTACTTTTGGATTTTTGCCAGTCTAACAGGTGAAGCCCTGGAGATTCTT', '@@BFFFFFHHHHGJJJJIJJJJHIJJJJJJJJJJIJJJJJGIJJJJJHIGHIIIJIIJJJJJJIJJJJIJJJJJHHHHHHFFDDFEEEEDDDDDDCDCCDE', 'X0:i:2', 'X1:i:2', 'XA:Z:chr15,-102519479,101M,0;chr12,-93918,101M,1;chr2,-114359324,101M,1;', 'MD:Z:101', 'PG:Z:MarkDuplicates', 'RG:Z:1', 'XG:i:0', 'AM:i:0', 'NM:i:0', 'SM:i:0', 'XM:i:0', 'XO:i:0', 'XT:A:R']\n",
      "['HWI-D00119:50:H7AP8ADXX:1:1205:6081:96561', '147', 'chr1', '11618', '0', '100M', '=', '11523', '-195', 'GAATGCCTGTTTCTCCACAAAGTGTTTACTTTTGGATTTTTGCCAGTCTAACAGGTGAAGCCCTGGAGATTCTTATTAGTGATTTGGGCTGGGGCCTGGC', 'DDDDDDDDDCDDDDDCCDDECCEEEFEDEFHHHHHHJJIJJJJJIJJJJIHJJJJJJJJJJJJIIJHIIJIJJIIJJJJJJJJJIGJHHHHHFFFFFCCC', 'X0:i:3', 'X1:i:1', 'XA:Z:chr2,+114359298,100M,0;chr15,+102519453,100M,0;chr9,-11731,100M,1;', 'MD:Z:100', 'PG:Z:MarkDuplicates', 'RG:Z:1', 'XG:i:0', 'AM:i:0', 'NM:i:0', 'SM:i:0', 'XM:i:0', 'XO:i:0', 'XT:A:R']\n"
     ]
    }
   ],
   "source": [
    "# Convert the file coming from the bam mapping to a csv file\n",
    "with open(tmp / \"illumina.txt\") as f:\n",
    "    csvfile = csv.reader(f, delimiter='\\t')\n",
    "    for row in csvfile:\n",
    "        print(row)"
   ]
  },
  {
   "cell_type": "code",
   "execution_count": null,
   "metadata": {},
   "outputs": [
    {
     "name": "stderr",
     "output_type": "stream",
     "text": [
      "[W::hts_idx_load3] The index file is older than the data file: /Users/andreapassetti/Reference/NIST/Na12878_HiSeq_Exome/project.NIST_NIST7035_H7AP8ADXX_TAAGGCGA_1_NA12878.bwa.markDuplicates.bai\n"
     ]
    }
   ],
   "source": [
    "# This is just a temp file to see if the idea is working out, only the first 20 positions\n",
    "# Extract the read position and the read itself\n",
    "with file.open() as temp:\n",
    "    command = f\"samtools view {shlex.quote(str(file))} chr1 | awk '{{print $4, $10}}'|head -n 20 > {tmp}/chr1.txt\"\n",
    "    subprocess.run(command, shell=True, check=True)"
   ]
  },
  {
   "cell_type": "code",
   "execution_count": 6,
   "metadata": {},
   "outputs": [
    {
     "name": "stdout",
     "output_type": "stream",
     "text": [
      "['10014', 'AACCCTAACCCTAACCCTAACCCTAACCCTAACCCTAACCCTAACCCTAACCCTAACCCTAACCCTAACCCTAACCCTAACCCTAA']\n",
      "['10022', 'CCCTAACCCTAACCCTAACCCTAACCCTAACCCTAACCCTAACCCTAACCCTAACCCTAACCCTAACCCTAACCCTA']\n",
      "['10028', 'CCCTAACCCTAACCCTAACCCTAACCCTAACCCTAACCCTAACCCTAAACCTAACCCTAACCCTAACCCTAACCCTAACCC']\n",
      "['10034', 'CCCTAACCCTAACCCTAACCCTAACCCTAACCCTAACCCTAACCCTAACCCTAACCCTAACCCTAACCCTAA']\n",
      "['10040', 'CCCTAACCCTAACCCTAACCCTAACCCTAACCCTAACCCTAACCCTAACCCTAACCCTAACCCTAACC']\n",
      "['10058', 'CCCTAACCCTAACCCTAACCCTAACCCTAACCCTAACCCTAACCCTAACCC']\n",
      "['10058', 'CCCTAACCCTAACCCTAACCCTAACCCTAACCCTAACCCTAACCCTAACCC']\n",
      "['10064', 'CCCTAACCCTAACCCTAACCCTAACCCTAACCCTAACCCTAACCCAACCC']\n",
      "['10179', 'CTAACCCTAACCCTAACCCTAACCCTAACCCTAACCCTAACCCTAACCC']\n",
      "['10180', 'TAACCCTAACCCTAACCCTAACCCTAGCCCTAACCCTAACCCTAACCC']\n",
      "['10183', 'CCCTAACCCTAACCCTAACCCTAACCCTAACCCTAACCCTAACCCTAACCC']\n",
      "['10183', 'CCCTAACCCTAACCCTAACCCTAACCCTAACCCTAACCCTAACCCTAACCC']\n",
      "['10186', 'TAACCCTAACCCTAACCCTAACCCTAACCCTAACCCTAACCC']\n",
      "['10196', 'CCTAACCCTAACCCTAGCCCTAGCCC']\n",
      "['10360', 'CCCTAACCCTAACCCTAACCCTAACCCTAACCCCTAACCCCTAACCCTAACCCTAACC']\n",
      "['10410', 'CCCTAACCCTAACCCTAACCCTAACCCTAACCC']\n",
      "['10989', 'GCGCAGAGACGCACGCCTACGGGCGGGGGTTGGGGGGGCGTGTGTTGCAGGAGCAAAGTCGCACGGCGCCGGGC']\n",
      "['11523', 'ATTCCTGGGTTTAAAAGTAAAAAATAAATATGTTTAATTTGTGAACTGATTACCATCAGAATTGTACTGTTCTGTATCCCACCAGCAATGTCTAGGAATG']\n",
      "['11591', 'GTTCTGTATCCCACCAGCAATGTCTAGGAATGCCTGTTTCTCCACAAAGTGTTTACTTTTGGATTTTTGCCAGTCTAACAGGTGAAGCCCTGGAGATTCTT']\n",
      "['11618', 'GAATGCCTGTTTCTCCACAAAGTGTTTACTTTTGGATTTTTGCCAGTCTAACAGGTGAAGCCCTGGAGATTCTTATTAGTGATTTGGGCTGGGGCCTGGC']\n"
     ]
    }
   ],
   "source": [
    "with open(tmp / \"chr1.txt\") as f:\n",
    "    csvfile = csv.reader(f, delimiter=' ')\n",
    "    for row in csvfile:\n",
    "        print(row)"
   ]
  },
  {
   "cell_type": "code",
   "execution_count": null,
   "metadata": {},
   "outputs": [
    {
     "name": "stderr",
     "output_type": "stream",
     "text": [
      "[W::hts_idx_load3] The index file is older than the data file: /Users/andreapassetti/Reference/NIST/Na12878_HiSeq_Exome/project.NIST_NIST7035_H7AP8ADXX_TAAGGCGA_1_NA12878.bwa.markDuplicates.bai\n"
     ]
    }
   ],
   "source": [
    "# Extract the read position and the read itself, store into txt file and convert it to csv file for manipulation\n",
    "with file.open() as temp:\n",
    "    command = f\"samtools view {shlex.quote(str(file))} chr1 | awk '{{print $4, $10}}' > {dati}/chr1.txt\"\n",
    "    subprocess.run(command, shell=True, check=True)\n",
    "with open(dati / \"chr1.txt\") as f:\n",
    "    csvfile = csv.reader(f, delimiter=' ')\n",
    "    with open(dati / \"chr1.csv\", mode='w', newline='') as csvfile_out:\n",
    "        csv_writer = csv.writer(csvfile_out)\n",
    "        csv_writer.writerow([\"coord\", \"read\"])\n",
    "        for row in csvfile:\n",
    "            csv_writer.writerow(row)"
   ]
  },
  {
   "cell_type": "code",
   "execution_count": 8,
   "metadata": {},
   "outputs": [
    {
     "name": "stdout",
     "output_type": "stream",
     "text": [
      "chr1\tHAVANA\tgene\t326096\t328112\t.\t+\t.\tID=ENSG00000250575.1;gene_id=ENSG00000250575.1;gene_type=pseudogene;gene_status=KNOWN;gene_name=RP4-669L17.8;level=1;tag=pseudo_consens;havana_gene=OTTHUMG00000002861.2;remap_substituted_missing_target=V19\n",
      "chr1\tHAVANA\tgene\t329431\t332236\t.\t-\t.\tID=ENSG00000233653.3;gene_id=ENSG00000233653.3;gene_type=pseudogene;gene_status=KNOWN;gene_name=CICP7;level=1;tag=pseudo_consens;havana_gene=OTTHUMG00000057429.3;remap_substituted_missing_target=V19\n",
      "chr1\tHAVANA\tgene\t334126\t334305\t.\t+\t.\tID=ENSG00000224813.2;gene_id=ENSG00000224813.2;gene_type=pseudogene;gene_status=KNOWN;gene_name=RP4-669L17.4;level=2;havana_gene=OTTHUMG00000002857.4;remap_substituted_missing_target=V19\n",
      "chr1\tHAVANA\tgene\t379105\t379467\t.\t-\t.\tID=ENSG00000269732.1;gene_id=ENSG00000269732.1;gene_type=pseudogene;gene_status=KNOWN;gene_name=WBP1LP7;level=1;tag=pseudo_consens;havana_gene=OTTHUMG00000002859.2;remap_substituted_missing_target=V19\n",
      "chr1\tENSEMBL\tgene\t450820\t450910\t.\t-\t.\tID=ENSG00000256186.1;gene_id=ENSG00000256186.1;gene_type=pseudogene;gene_status=NOVEL;gene_name=AL732372.1;level=3;remap_substituted_missing_target=V19\n",
      "chr1\tHAVANA\tgene\t470971\t471355\t.\t+\t.\tID=ENSG00000236679.2;gene_id=ENSG00000236679.2;gene_type=pseudogene;gene_status=KNOWN;gene_name=RP4-669L17.1;level=1;tag=pseudo_consens;havana_gene=OTTHUMG00000002854.4;remap_substituted_missing_target=V19\n",
      "chr1\tENSEMBL\tgene\t10078085\t10078592\t.\t-\t.\tID=ENSG00000225786.2;gene_id=ENSG00000225786.2;gene_type=pseudogene;gene_status=NOVEL;gene_name=AL590639.1;level=3;remap_substituted_missing_target=V19\n",
      "chr1\tHAVANA\tgene\t13012966\t13015755\t.\t-\t.\tID=ENSG00000250894.1;gene_id=ENSG00000250894.1;gene_type=pseudogene;gene_status=KNOWN;gene_name=RP11-450I1.4;level=2;havana_gene=OTTHUMG00000001985.1;remap_substituted_missing_target=V19\n",
      "chr1\tHAVANA\tgene\t13108842\t13112679\t.\t-\t.\tID=ENSG00000270601.1;gene_id=ENSG00000270601.1;gene_type=pseudogene;gene_status=KNOWN;gene_name=PRAMEF23;level=2;havana_gene=OTTHUMG00000184604.1;remap_substituted_missing_target=V19\n",
      "chr1\tHAVANA\tgene\t13123246\t13126086\t.\t-\t.\tID=ENSG00000250113.1;gene_id=ENSG00000250113.1;gene_type=pseudogene;gene_status=KNOWN;gene_name=RP13-221M14.6;level=2;havana_gene=OTTHUMG00000160546.1;remap_substituted_missing_target=V19\n",
      "chr1\tHAVANA\tgene\t13140456\t13145000\t.\t+\t.\tID=ENSG00000204505.3;gene_id=ENSG00000204505.3;gene_type=pseudogene;gene_status=KNOWN;gene_name=PRAMEF25;level=2;havana_gene=OTTHUMG00000009499.1;remap_substituted_missing_target=V19\n",
      "chr1\tHAVANA\tgene\t13162645\t13165443\t.\t-\t.\tID=ENSG00000229978.1;gene_id=ENSG00000229978.1;gene_type=pseudogene;gene_status=KNOWN;gene_name=RP13-221M14.3;level=2;havana_gene=OTTHUMG00000009501.2;remap_substituted_missing_target=V19\n",
      "chr1\tHAVANA\tgene\t13411551\t13414482\t.\t+\t.\tID=ENSG00000237700.1;gene_id=ENSG00000237700.1;gene_type=pseudogene;gene_status=KNOWN;gene_name=RP11-219C24.6;level=2;havana_gene=OTTHUMG00000008036.1;remap_substituted_missing_target=V19\n",
      "chr1\tHAVANA\tgene\t13607431\t13611550\t.\t-\t.\tID=ENSG00000204485.2;gene_id=ENSG00000204485.2;gene_type=pseudogene;gene_status=KNOWN;gene_name=XX-FW84067D5.1;level=2;havana_gene=OTTHUMG00000007910.1;remap_substituted_missing_target=V19\n",
      "chr1\tHAVANA\tgene\t13632348\t13635279\t.\t+\t.\tID=ENSG00000224581.1;gene_id=ENSG00000224581.1;gene_type=pseudogene;gene_status=KNOWN;gene_name=XX-FW84067D5.2;level=2;havana_gene=OTTHUMG00000007913.1;remap_substituted_missing_target=V19\n",
      "chr1\tENSEMBL\tgene\t20976856\t20977207\t.\t-\t.\tID=ENSG00000257033.1;gene_id=ENSG00000257033.1;gene_type=pseudogene;gene_status=NOVEL;gene_name=AL391357.1;level=3;remap_substituted_missing_target=V19\n",
      "chr1\tHAVANA\tgene\t24032291\t24033424\t.\t-\t.\tID=ENSG00000203589.2;gene_id=ENSG00000203589.2;gene_type=pseudogene;gene_status=KNOWN;gene_name=RP5-886K2.1;level=2;havana_gene=OTTHUMG00000002928.1;remap_substituted_missing_target=V19\n",
      "chr1\tENSEMBL\tgene\t33764975\t33766320\t.\t+\t.\tID=ENSG00000256142.1;gene_id=ENSG00000256142.1;gene_type=pseudogene;gene_status=NOVEL;gene_name=AL513327.1;level=3;remap_substituted_missing_target=V19\n",
      "chr1\tENSEMBL\tgene\t54481327\t54481616\t.\t+\t.\tID=ENSG00000197015.2;gene_id=ENSG00000197015.2;gene_type=pseudogene;gene_status=NOVEL;gene_name=AL353898.1;level=3;remap_substituted_missing_target=V19\n",
      "chr1\tENSEMBL\tgene\t54498816\t54500553\t.\t-\t.\tID=ENSG00000203276.2;gene_id=ENSG00000203276.2;gene_type=pseudogene;gene_status=KNOWN;gene_name=AL353898.2;level=3;remap_substituted_missing_target=V19\n"
     ]
    }
   ],
   "source": [
    "with ref.open() as gencode:\n",
    "    command = f\"\"\"gunzip -c {shlex.quote(str(ref))}| grep -v '^#' |awk '$1 == \"chr1\" && $3 == \"gene\" && $9 ~ \"gene_type=pseudogene\"' | head -n 20 \"\"\"\n",
    "    subprocess.run(command, shell=True, check=True)"
   ]
  },
  {
   "cell_type": "code",
   "execution_count": 9,
   "metadata": {},
   "outputs": [
    {
     "name": "stdout",
     "output_type": "stream",
     "text": [
      "chr1\tHAVANA\tgene\t65419\t71585\t.\t+\t.\tID=ENSG00000186092.7;gene_id=ENSG00000186092.7_10;gene_type=protein_coding;gene_name=OR4F5;level=2;hgnc_id=HGNC:14825;havana_gene=OTTHUMG00000001094.4_10;remap_status=full_contig;remap_num_mappings=1;remap_target_status=overlap\n",
      "chr1\tENSEMBL\tgene\t134901\t139379\t.\t-\t.\tID=ENSG00000237683.5;gene_id=ENSG00000237683.5;gene_type=protein_coding;gene_status=KNOWN;gene_name=AL627309.1;level=3;remap_substituted_missing_target=V19\n",
      "chr1\tHAVANA\tgene\t326096\t328112\t.\t+\t.\tID=ENSG00000250575.1;gene_id=ENSG00000250575.1;gene_type=pseudogene;gene_status=KNOWN;gene_name=RP4-669L17.8;level=1;tag=pseudo_consens;havana_gene=OTTHUMG00000002861.2;remap_substituted_missing_target=V19\n",
      "chr1\tHAVANA\tgene\t329431\t332236\t.\t-\t.\tID=ENSG00000233653.3;gene_id=ENSG00000233653.3;gene_type=pseudogene;gene_status=KNOWN;gene_name=CICP7;level=1;tag=pseudo_consens;havana_gene=OTTHUMG00000057429.3;remap_substituted_missing_target=V19\n",
      "chr1\tHAVANA\tgene\t334126\t334305\t.\t+\t.\tID=ENSG00000224813.2;gene_id=ENSG00000224813.2;gene_type=pseudogene;gene_status=KNOWN;gene_name=RP4-669L17.4;level=2;havana_gene=OTTHUMG00000002857.4;remap_substituted_missing_target=V19\n",
      "chr1\tHAVANA\tgene\t367640\t368634\t.\t+\t.\tID=ENSG00000235249.1;gene_id=ENSG00000235249.1;gene_type=protein_coding;gene_status=KNOWN;gene_name=OR4F29;level=2;havana_gene=OTTHUMG00000002860.1;remap_substituted_missing_target=V19\n",
      "chr1\tHAVANA\tgene\t379105\t379467\t.\t-\t.\tID=ENSG00000269732.1;gene_id=ENSG00000269732.1;gene_type=pseudogene;gene_status=KNOWN;gene_name=WBP1LP7;level=1;tag=pseudo_consens;havana_gene=OTTHUMG00000002859.2;remap_substituted_missing_target=V19\n",
      "chr1\tENSEMBL\tgene\t450820\t450910\t.\t-\t.\tID=ENSG00000256186.1;gene_id=ENSG00000256186.1;gene_type=pseudogene;gene_status=NOVEL;gene_name=AL732372.1;level=3;remap_substituted_missing_target=V19\n",
      "chr1\tHAVANA\tgene\t470971\t471355\t.\t+\t.\tID=ENSG00000236679.2;gene_id=ENSG00000236679.2;gene_type=pseudogene;gene_status=KNOWN;gene_name=RP4-669L17.1;level=1;tag=pseudo_consens;havana_gene=OTTHUMG00000002854.4;remap_substituted_missing_target=V19\n",
      "chr1\tHAVANA\tgene\t621096\t622034\t.\t-\t.\tID=ENSG00000284662.2;gene_id=ENSG00000284662.2_9;gene_type=protein_coding;gene_name=OR4F16;level=2;hgnc_id=HGNC:15079;havana_gene=OTTHUMG00000002581.3_9;remap_status=full_contig;remap_num_mappings=1;remap_target_status=overlap\n",
      "chr1\tHAVANA\tgene\t859303\t879955\t.\t+\t.\tID=ENSG00000187634.13;gene_id=ENSG00000187634.13_17;gene_type=protein_coding;gene_name=SAMD11;level=2;hgnc_id=HGNC:28706;havana_gene=OTTHUMG00000040719.11_17;remap_status=full_contig;remap_num_mappings=1;remap_target_status=overlap\n",
      "chr1\tHAVANA\tgene\t879583\t894689\t.\t-\t.\tID=ENSG00000188976.11;gene_id=ENSG00000188976.11_9;gene_type=protein_coding;gene_name=NOC2L;level=2;hgnc_id=HGNC:24517;havana_gene=OTTHUMG00000040720.2_9;remap_status=full_contig;remap_num_mappings=1;remap_target_status=overlap\n",
      "chr1\tHAVANA\tgene\t895964\t901099\t.\t+\t.\tID=ENSG00000187961.15;gene_id=ENSG00000187961.15_10;gene_type=protein_coding;gene_name=KLHL17;level=2;hgnc_id=HGNC:24023;havana_gene=OTTHUMG00000040721.8_10;remap_status=full_contig;remap_num_mappings=1;remap_target_status=overlap\n",
      "chr1\tHAVANA\tgene\t901862\t911245\t.\t+\t.\tID=ENSG00000187583.11;gene_id=ENSG00000187583.11_15;gene_type=protein_coding;gene_name=PLEKHN1;level=2;hgnc_id=HGNC:25284;havana_gene=OTTHUMG00000040756.5_15;remap_status=full_contig;remap_num_mappings=1;remap_target_status=overlap\n",
      "chr1\tHAVANA\tgene\t910578\t917497\t.\t-\t.\tID=ENSG00000187642.10;gene_id=ENSG00000187642.10_15;gene_type=protein_coding;gene_name=PERM1;level=2;hgnc_id=HGNC:28208;havana_gene=OTTHUMG00000040757.3_15;remap_status=full_contig;remap_num_mappings=1;remap_target_status=overlap\n",
      "chr1\tHAVANA\tgene\t934342\t935552\t.\t-\t.\tID=ENSG00000188290.11;gene_id=ENSG00000188290.11_14;gene_type=protein_coding;gene_name=HES4;level=2;hgnc_id=HGNC:24149;havana_gene=OTTHUMG00000040758.2_14;remap_status=full_contig;remap_num_mappings=1;remap_target_status=overlap\n",
      "chr1\tHAVANA\tgene\t936518\t949920\t.\t+\t.\tID=ENSG00000187608.10;gene_id=ENSG00000187608.10_13;gene_type=protein_coding;gene_name=ISG15;level=2;hgnc_id=HGNC:4053;havana_gene=OTTHUMG00000040777.4_13;remap_status=full_contig;remap_num_mappings=1;remap_target_status=overlap\n",
      "chr1\tHAVANA\tgene\t955500\t991499\t.\t+\t.\tID=ENSG00000188157.16;gene_id=ENSG00000188157.16_10;gene_type=protein_coding;gene_name=AGRN;level=2;hgnc_id=HGNC:329;tag=overlapping_locus;havana_gene=OTTHUMG00000040778.7_10;remap_status=full_contig;remap_num_mappings=1;remap_target_status=overlap\n",
      "chr1\tHAVANA\tgene\t1006347\t1009686\t.\t-\t.\tID=ENSG00000237330.3;gene_id=ENSG00000237330.3_9;gene_type=protein_coding;gene_name=RNF223;level=2;hgnc_id=HGNC:40020;havana_gene=OTTHUMG00000185582.2_9;remap_status=full_contig;remap_num_mappings=1;remap_target_status=overlap\n",
      "chr1\tHAVANA\tgene\t1017198\t1051741\t.\t-\t.\tID=ENSG00000131591.18;gene_id=ENSG00000131591.18_16;gene_type=protein_coding;gene_name=C1orf159;level=2;hgnc_id=HGNC:26062;havana_gene=OTTHUMG00000000745.9_16;remap_status=full_contig;remap_num_mappings=1;remap_target_status=overlap\n"
     ]
    }
   ],
   "source": [
    "with ref.open() as gencode:\n",
    "    command = f\"\"\"gunzip -c {shlex.quote(str(ref))}| grep -v '^#' |awk '$1 == \"chr1\" && $3 == \"gene\" && ($9 ~ \"gene_type=protein_coding\" || $9 ~ \"gene_type=pseudogene\")' | head -n 20 \"\"\"\n",
    "    subprocess.run(command, shell=True, check=True)"
   ]
  },
  {
   "cell_type": "code",
   "execution_count": 19,
   "metadata": {},
   "outputs": [
    {
     "name": "stdout",
     "output_type": "stream",
     "text": [
      "Created txt file\n"
     ]
    }
   ],
   "source": [
    "with ref.open() as gencode:\n",
    "    command = f\"\"\"gunzip -c {shlex.quote(str(ref))}| grep -v '^#' |awk '$1 == \"chr1\" && $3 == \"gene\" && ($9 ~ \"gene_type=protein_coding\" || $9 ~ \"gene_type=pseudogene\")' | awk '{{print $1, $4, $5, $9}}' > {dati}/genes_chr1.txt\"\"\"\n",
    "    subprocess.run(command, shell=True, check=True)\n",
    "\n",
    "print(f\"Created txt file\")"
   ]
  },
  {
   "cell_type": "code",
   "execution_count": 18,
   "metadata": {},
   "outputs": [
    {
     "name": "stdout",
     "output_type": "stream",
     "text": [
      "Done!\n"
     ]
    }
   ],
   "source": [
    "# Generate csv file from reference\n",
    "with open(dati / \"genes_chr1.txt\") as f:\n",
    "    lines = f.read().replace(';', ' ')\n",
    "    with open(dati / \"genes_chr1.csv\", mode='w', newline='') as csvfile_out:\n",
    "        csv_writer = csv.writer(csvfile_out)\n",
    "        csvfile = csv.reader(lines.splitlines(), delimiter=' ')\n",
    "        for row in csvfile:\n",
    "            csv_writer.writerow(row)\n",
    "\n",
    "print(\"Done!\")"
   ]
  },
  {
   "cell_type": "markdown",
   "metadata": {},
   "source": [
    "CSV files with all the data"
   ]
  },
  {
   "cell_type": "code",
   "execution_count": 33,
   "metadata": {},
   "outputs": [
    {
     "name": "stdout",
     "output_type": "stream",
     "text": [
      "Filtered data saved to dati/genes_coordinate_chr1.csv\n"
     ]
    }
   ],
   "source": [
    "input_file = \"dati/genes_chr1.csv\"\n",
    "output_file = \"dati/genes_coordinate_chr1.csv\"\n",
    "\n",
    "# Read only the first 10 columns, assuming no headers\n",
    "df = pd.read_csv(input_file, usecols=range(10), header=None)\n",
    "\n",
    "# Assign custom column names for the first 6 columns\n",
    "df.columns = [\"chr1\", \"start\", \"finish\", \"gene_id\", \"col_5\", \"gene_type\"] + [f\"col_{i}\" for i in range(6, df.shape[1])]\n",
    "\n",
    "# Extract the first 4 columns and the 6th column (gene_type), omitting col_5\n",
    "first_4_columns = df[[\"chr1\", \"start\", \"finish\", \"gene_id\"]]\n",
    "\n",
    "# Remove the \"gene_type=\" prefix and keep only the value (e.g., \"protein_coding\", \"pseudogene\")\n",
    "gene_type_column = df[\"gene_type\"].str.split(\"=\", expand=True)[1]\n",
    "\n",
    "# Correctly locate the `gene_name` column\n",
    "def extract_gene_name(row):\n",
    "    for col in row.index:\n",
    "        if \"gene_name=\" in str(row[col]):\n",
    "            return row[col].split(\"gene_name=\")[-1]  # Extract just the name\n",
    "    return None\n",
    "\n",
    "# Apply the extraction logic row-wise to extract gene_name\n",
    "gene_name_column = df.apply(extract_gene_name, axis=1)\n",
    "\n",
    "# Combine the selected columns: first 4 columns + cleaned gene_type + gene_name\n",
    "result = pd.concat([first_4_columns, gene_type_column.rename(\"gene_type\"), gene_name_column.rename(\"gene_name\")], axis=1)\n",
    "\n",
    "# Save the filtered data to a new CSV file\n",
    "result.to_csv(output_file, index=False)\n",
    "\n",
    "print(f\"Filtered data saved to {output_file}\")"
   ]
  },
  {
   "cell_type": "code",
   "execution_count": 38,
   "metadata": {},
   "outputs": [
    {
     "name": "stdout",
     "output_type": "stream",
     "text": [
      "200 rows starting from row 14070 saved to temp1.csv\n"
     ]
    }
   ],
   "source": [
    "# Load the data from the CSV file\n",
    "chr1_df = pd.read_csv(dati / \"chr1.csv\")\n",
    "\n",
    "# Save 200 rows starting from row 14070 to a new CSV file named temp1.csv\n",
    "chr1_df.iloc[14070:14270].to_csv(dati / \"temp1.csv\", index=False)\n",
    "\n",
    "print(\"200 rows starting from row 14070 saved to temp1.csv\")"
   ]
  },
  {
   "cell_type": "code",
   "execution_count": 39,
   "metadata": {},
   "outputs": [
    {
     "name": "stdout",
     "output_type": "stream",
     "text": [
      "First 200 rows saved to temp2.csv\n"
     ]
    }
   ],
   "source": [
    "# Load the data from the CSV file\n",
    "chr1_df = pd.read_csv(dati / \"genes_coordinate_chr1.csv\")\n",
    "\n",
    "# Save the first 200 rows to a new CSV file named temp2.csv\n",
    "chr1_df.head(200).to_csv(dati / \"temp2.csv\", index=False)\n",
    "\n",
    "print(\"First 200 rows saved to temp2.csv\")"
   ]
  },
  {
   "cell_type": "code",
   "execution_count": 41,
   "metadata": {},
   "outputs": [
    {
     "name": "stdout",
     "output_type": "stream",
     "text": [
      "Filtered data with gene_type and gene_name saved to dati/temp3.csv\n"
     ]
    }
   ],
   "source": [
    "import pandas as pd\n",
    "\n",
    "# Define file paths\n",
    "temp1_file = \"dati/temp1.csv\"  # CSV containing coord and read\n",
    "temp2_file = \"dati/temp2.csv\"  # CSV containing gene info (temp1, Start, Finish, gene_id, gene_type, gene_name)\n",
    "output_file = \"dati/temp3.csv\"  # Output CSV containing coord, read, gene_type, and gene_name\n",
    "\n",
    "# Load the data from both CSVs\n",
    "temp1_df = pd.read_csv(temp1_file)  # Assume columns: 'coord', 'read'\n",
    "temp2_df = pd.read_csv(temp2_file)  # Assume columns: 'chr1', 'start', 'finish', 'gene_id', 'gene_type', 'gene_name'\n",
    "\n",
    "# Function to get gene_type and gene_name for a given coord\n",
    "def get_gene_info(coord):\n",
    "    for _, row in temp2_df.iterrows():\n",
    "        # Check if the coord is within the range of Start and Finish\n",
    "        if row['start'] <= coord <= row['finish']:\n",
    "            return row['gene_type'], row['gene_name']\n",
    "    return None, None  # If no match, return None for both\n",
    "\n",
    "# Apply the function to the 'coord' column of temp1 to get gene_type and gene_name\n",
    "temp1_df[['gene_type', 'gene_name']] = temp1_df['coord'].apply(lambda coord: pd.Series(get_gene_info(coord)))\n",
    "\n",
    "# Filter out rows where gene_type or gene_name is None\n",
    "filtered_df = temp1_df.dropna(subset=['gene_type', 'gene_name'])\n",
    "\n",
    "# Save the resulting DataFrame to temp3.csv\n",
    "filtered_df.to_csv(output_file, index=False)\n",
    "\n",
    "print(f\"Filtered data with gene_type and gene_name saved to {output_file}\")\n"
   ]
  },
  {
   "cell_type": "code",
   "execution_count": 46,
   "metadata": {},
   "outputs": [
    {
     "name": "stdout",
     "output_type": "stream",
     "text": [
      "Saved: Dati/split_files/split_1.csv\n",
      "Saved: Dati/split_files/split_2.csv\n",
      "Saved: Dati/split_files/split_3.csv\n",
      "Saved: Dati/split_files/split_4.csv\n",
      "Saved: Dati/split_files/split_5.csv\n",
      "Saved: Dati/split_files/split_6.csv\n",
      "Saved: Dati/split_files/split_7.csv\n",
      "Saved: Dati/split_files/split_8.csv\n",
      "Saved: Dati/split_files/split_9.csv\n",
      "Saved: Dati/split_files/split_10.csv\n",
      "Saved: Dati/split_files/split_11.csv\n",
      "Saved: Dati/split_files/split_12.csv\n",
      "Saved: Dati/split_files/split_13.csv\n",
      "Saved: Dati/split_files/split_14.csv\n",
      "Saved: Dati/split_files/split_15.csv\n",
      "Saved: Dati/split_files/split_16.csv\n",
      "Saved: Dati/split_files/split_17.csv\n",
      "Saved: Dati/split_files/split_18.csv\n",
      "Saved: Dati/split_files/split_19.csv\n",
      "Saved: Dati/split_files/split_20.csv\n",
      "Saved: Dati/split_files/split_21.csv\n",
      "Saved: Dati/split_files/split_22.csv\n",
      "Saved: Dati/split_files/split_23.csv\n",
      "Saved: Dati/split_files/split_24.csv\n",
      "Saved: Dati/split_files/split_25.csv\n",
      "Saved: Dati/split_files/split_26.csv\n",
      "Saved: Dati/split_files/split_27.csv\n",
      "Saved: Dati/split_files/split_28.csv\n",
      "Saved: Dati/split_files/split_29.csv\n",
      "Saved: Dati/split_files/split_30.csv\n",
      "Saved: Dati/split_files/split_31.csv\n",
      "Saved: Dati/split_files/split_32.csv\n",
      "Saved: Dati/split_files/split_33.csv\n",
      "Saved: Dati/split_files/split_34.csv\n",
      "Saved: Dati/split_files/split_35.csv\n",
      "Saved: Dati/split_files/split_36.csv\n",
      "Saved: Dati/split_files/split_37.csv\n",
      "Saved: Dati/split_files/split_38.csv\n",
      "Saved: Dati/split_files/split_39.csv\n",
      "Saved: Dati/split_files/split_40.csv\n",
      "Saved: Dati/split_files/split_41.csv\n",
      "Splitting complete!\n"
     ]
    }
   ],
   "source": [
    "import pandas as pd\n",
    "\n",
    "# Input and output file paths\n",
    "input_file = \"Dati/chr1.csv\"  # Replace with the path to your large CSV file\n",
    "output_folder = \"Dati/split_files\"  # Folder where the split files will be saved\n",
    "chunk_size = 100000  # Number of rows per smaller CSV file\n",
    "\n",
    "# Create the output folder if it doesn't exist\n",
    "import os\n",
    "os.makedirs(output_folder, exist_ok=True)\n",
    "\n",
    "# Read the large CSV file in chunks\n",
    "chunk_iter = pd.read_csv(input_file, chunksize=chunk_size)\n",
    "\n",
    "# Process each chunk and save it as a separate file\n",
    "for i, chunk in enumerate(chunk_iter, start=1):\n",
    "    output_file = os.path.join(output_folder, f\"split_{i}.csv\")\n",
    "    chunk.to_csv(output_file, index=False)\n",
    "    print(f\"Saved: {output_file}\")\n",
    "\n",
    "print(\"Splitting complete!\")\n"
   ]
  },
  {
   "cell_type": "markdown",
   "metadata": {},
   "source": [
    "# Script di prova per vedere se splittando il primo file nel temp2 funziona finalmente\n"
   ]
  },
  {
   "cell_type": "code",
   "execution_count": 47,
   "metadata": {},
   "outputs": [
    {
     "name": "stdout",
     "output_type": "stream",
     "text": [
      "Filtered data with gene_type and gene_name saved to Dati/prova.csv\n"
     ]
    }
   ],
   "source": [
    "import pandas as pd\n",
    "\n",
    "# Define file paths\n",
    "chr1_file = \"Dati/split_files/split_1.csv\"  # CSV containing coord and read\n",
    "temp2_file = \"Dati/temp2.csv\"  # CSV containing gene info (chr1, start, finish, gene_id, gene_type, gene_name)\n",
    "output_file = \"Dati/prova.csv\"  # Output CSV containing coord, read, gene_type, and gene_name\n",
    "\n",
    "# Load the data from both CSVs\n",
    "chr1_df = pd.read_csv(chr1_file)  # Assume columns: 'coord', 'read'\n",
    "temp2_df = pd.read_csv(temp2_file)  # Assume columns: 'chr1', 'start', 'finish', 'gene_id', 'gene_type', 'gene_name'\n",
    "\n",
    "# Function to get gene_type and gene_name for a given coord\n",
    "def get_gene_info(coord):\n",
    "    for _, row in temp2_df.iterrows():\n",
    "        # Check if the coord is within the range of start and finish\n",
    "        if row['start'] <= coord <= row['finish']:\n",
    "            return row['gene_type'], row['gene_name']\n",
    "    return None, None  # If no match, return None for both\n",
    "\n",
    "# Apply the function to the 'coord' column of chr1 to get gene_type and gene_name\n",
    "chr1_df[['gene_type', 'gene_name']] = chr1_df['coord'].apply(lambda coord: pd.Series(get_gene_info(coord)))\n",
    "\n",
    "# Filter out rows where gene_type or gene_name is None\n",
    "filtered_df = chr1_df.dropna(subset=['gene_type', 'gene_name'])\n",
    "\n",
    "# Save the resulting DataFrame to prova.csv\n",
    "filtered_df.to_csv(output_file, index=False)\n",
    "\n",
    "print(f\"Filtered data with gene_type and gene_name saved to {output_file}\")\n"
   ]
  },
  {
   "cell_type": "code",
   "execution_count": 50,
   "metadata": {},
   "outputs": [
    {
     "name": "stdout",
     "output_type": "stream",
     "text": [
      "Filtered data with gene_type and gene_name saved to Dati/prova_full.csv\n"
     ]
    }
   ],
   "source": [
    "# Script migliorato col file split ma file di coordinate completo\n",
    "\n",
    "import pandas as pd\n",
    "\n",
    "# Define file paths\n",
    "chr1_file = \"Dati/split_files/split_1.csv\"  # CSV containing coord and read\n",
    "coord_file = \"Dati/genes_coordinate_chr1.csv\"  # CSV containing gene info (chr1, start, finish, gene_id, gene_type, gene_name)\n",
    "output_file = \"Dati/prova_full.csv\"  # Output CSV containing coord, read, gene_type, and gene_name\n",
    "\n",
    "# Load the data from both CSVs\n",
    "chr1_df = pd.read_csv(chr1_file)  # Assume columns: 'coord', 'read'\n",
    "coord_df = pd.read_csv(coord_file)  # Assume columns: 'chr1', 'start', 'finish', 'gene_id', 'gene_type', 'gene_name'\n",
    "\n",
    "# Step 1: Create an IntervalIndex for the ranges in coord_df\n",
    "intervals = pd.IntervalIndex.from_arrays(coord_df['start'], coord_df['finish'], closed='both')\n",
    "\n",
    "# Step 2: Define a function to find matching rows using the IntervalIndex\n",
    "def get_gene_info(coord):\n",
    "    match = intervals.contains(coord)\n",
    "    if match.any():\n",
    "        first_match_idx = match.argmax()  # Find the index of the first match\n",
    "        row = coord_df.iloc[first_match_idx]  # Get the corresponding row\n",
    "        return pd.Series({'gene_type': row['gene_type'], 'gene_name': row['gene_name']})\n",
    "    return pd.Series({'gene_type': None, 'gene_name': None})\n",
    "\n",
    "# Step 3: Apply the function to chr1_df\n",
    "chr1_df[['gene_type', 'gene_name']] = chr1_df['coord'].apply(get_gene_info)\n",
    "\n",
    "# Step 4: Filter out rows without a match\n",
    "filtered_df = chr1_df.dropna(subset=['gene_type', 'gene_name'])\n",
    "\n",
    "# Step 5: Save the resulting DataFrame to the output file\n",
    "filtered_df.to_csv(output_file, index=False)\n",
    "\n",
    "print(f\"Filtered data with gene_type and gene_name saved to {output_file}\")\n"
   ]
  },
  {
   "cell_type": "markdown",
   "metadata": {},
   "source": [
    "# FORSE VA "
   ]
  },
  {
   "cell_type": "code",
   "execution_count": 52,
   "metadata": {},
   "outputs": [
    {
     "name": "stdout",
     "output_type": "stream",
     "text": [
      "Filtered data with gene_type and gene_name saved to Dati/prova_full_full.csv\n"
     ]
    }
   ],
   "source": [
    "import pandas as pd\n",
    "\n",
    "# Define file paths\n",
    "chr1_file = \"Dati/chr1.csv\"  # CSV containing coord and read\n",
    "coord_file = \"Dati/genes_coordinate_chr1.csv\"  # CSV containing gene info (chr1, start, finish, gene_id, gene_type, gene_name)\n",
    "output_file = \"Dati/prova_full_full.csv\"  # Output CSV containing coord, read, gene_type, and gene_name\n",
    "\n",
    "# Load the data from both CSVs\n",
    "chr1_df = pd.read_csv(chr1_file)  # Assume columns: 'coord', 'read'\n",
    "coord_df = pd.read_csv(coord_file)  # Assume columns: 'chr1', 'start', 'finish', 'gene_id', 'gene_type', 'gene_name'\n",
    "\n",
    "# Step 1: Create an IntervalIndex for the ranges in coord_df\n",
    "intervals = pd.IntervalIndex.from_arrays(coord_df['start'], coord_df['finish'], closed='both')\n",
    "\n",
    "# Step 2: Define a function to find matching rows using the IntervalIndex\n",
    "def get_gene_info(coord):\n",
    "    match = intervals.contains(coord)\n",
    "    if match.any():\n",
    "        first_match_idx = match.argmax()  # Find the index of the first match\n",
    "        row = coord_df.iloc[first_match_idx]  # Get the corresponding row\n",
    "        return pd.Series({'gene_type': row['gene_type'], 'gene_name': row['gene_name']})\n",
    "    return pd.Series({'gene_type': None, 'gene_name': None})\n",
    "\n",
    "# Step 3: Apply the function to chr1_df\n",
    "chr1_df[['gene_type', 'gene_name']] = chr1_df['coord'].apply(get_gene_info)\n",
    "\n",
    "# Step 4: Filter out rows without a match\n",
    "filtered_df = chr1_df.dropna(subset=['gene_type', 'gene_name'])\n",
    "\n",
    "# Step 5: Save the resulting DataFrame to the output file\n",
    "filtered_df.to_csv(output_file, index=False)\n",
    "\n",
    "print(f\"Filtered data with gene_type and gene_name saved to {output_file}\")\n"
   ]
  },
  {
   "cell_type": "markdown",
   "metadata": {},
   "source": [
    "# VA!!!"
   ]
  },
  {
   "cell_type": "markdown",
   "metadata": {},
   "source": [
    "## To do\n",
    "Il problema è che le colonne non sono formattate bene, bisogna formattare le colonne in modo che sparisca gene_status, venga gene_name in tutte le colonne e venga cancellato tutto quello che sta a destra (FATTO!)\n",
    "\n",
    "ORA:\n",
    "- creare script che interroga il file csv, in base alle coordinate del file bam assegna alle read lo stato di \"gene\" o \"pseudogene\" -> DONE!\n",
    "- usare ML, fare training the modello con 80/20 per fargli imparare a riconoscere una read \"gene\" e una \"pseudogene\"\n",
    "- provare il modello con dati provenienti da chr2? trainare il modello con i geni di chr2?"
   ]
  },
  {
   "cell_type": "markdown",
   "metadata": {},
   "source": [
    "Memo: \n",
    "\n",
    "~/Reference/hg19 ❯ gunzip -c gencode.v47lift37.basic.annotation.gff3.gz | awk '$1 == \"chr1\" && $3 == \"gene\"' | head -n 500 | less -S -x 15\n",
    "\n",
    "~/Reference/NIST/Na12878_HiSeq_Exome ❯ samtools view project.NIST_NIST7086_H7AP8ADXX_CGTACTAG_1_NA12878.bwa.markDuplicates.bam chr1 | awk '{print $4, $10}' | head -n 10\n"
   ]
  },
  {
   "cell_type": "code",
   "execution_count": null,
   "metadata": {},
   "outputs": [],
   "source": []
  }
 ],
 "metadata": {
  "kernelspec": {
   "display_name": "bioinfo",
   "language": "python",
   "name": "python3"
  },
  "language_info": {
   "codemirror_mode": {
    "name": "ipython",
    "version": 3
   },
   "file_extension": ".py",
   "mimetype": "text/x-python",
   "name": "python",
   "nbconvert_exporter": "python",
   "pygments_lexer": "ipython3",
   "version": "3.12.3"
  }
 },
 "nbformat": 4,
 "nbformat_minor": 2
}
